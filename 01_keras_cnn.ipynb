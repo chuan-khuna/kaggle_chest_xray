{
 "cells": [
  {
   "cell_type": "code",
   "execution_count": 1,
   "metadata": {},
   "outputs": [],
   "source": [
    "import numpy as np\n",
    "import pandas as pd\n",
    "import matplotlib.pyplot as plt\n",
    "import seaborn as sns\n",
    "\n",
    "sns.set(context='paper', style='whitegrid', rc={'figure.figsize':(21/2, 9/2), 'figure.dpi': 120})\n",
    "color_palette = sns.color_palette(\"Set2\")\n",
    "sns.set_palette(color_palette)\n",
    "\n",
    "seed_ = 20200218\n",
    "np.random.seed(seed_)\n",
    "\n",
    "import os\n",
    "from PIL import Image\n",
    "\n",
    "import tensorflow as tf\n",
    "import keras\n",
    "\n",
    "from keras.models import Sequential\n",
    "from keras.layers import Dense, Conv2D, Flatten, MaxPool2D\n",
    "from keras.callbacks import EarlyStopping"
   ]
  },
  {
   "cell_type": "code",
   "execution_count": 2,
   "metadata": {},
   "outputs": [],
   "source": [
    "# tensorflow use gpu https://www.tensorflow.org/guide/gpu"
   ]
  },
  {
   "cell_type": "code",
   "execution_count": 3,
   "metadata": {},
   "outputs": [],
   "source": [
    "config = tf.config.experimental.list_physical_devices('GPU')"
   ]
  },
  {
   "cell_type": "code",
   "execution_count": 4,
   "metadata": {},
   "outputs": [],
   "source": [
    "train_dataset_path = \"./data/train/\"\n",
    "val_dataset_path = \"./data/val/\"\n",
    "test_dataset_path = \"./data/test/\""
   ]
  },
  {
   "cell_type": "code",
   "execution_count": 5,
   "metadata": {},
   "outputs": [],
   "source": [
    "train_data_generator = keras.preprocessing.image.ImageDataGenerator(\n",
    "    rescale=(1.0/255)\n",
    ")\n",
    "\n",
    "val_data_generator = keras.preprocessing.image.ImageDataGenerator(\n",
    "    rescale=(1.0/255)\n",
    ")\n",
    "\n",
    "test_data_generator = keras.preprocessing.image.ImageDataGenerator(\n",
    "    rescale=(1.0/255)\n",
    ")\n"
   ]
  },
  {
   "cell_type": "code",
   "execution_count": 6,
   "metadata": {},
   "outputs": [
    {
     "name": "stdout",
     "output_type": "stream",
     "text": [
      "Found 5076 images belonging to 2 classes.\n",
      "Found 156 images belonging to 2 classes.\n",
      "Found 624 images belonging to 2 classes.\n"
     ]
    }
   ],
   "source": [
    "train_generator = train_data_generator.flow_from_directory(\n",
    "    directory=train_dataset_path,\n",
    "    class_mode='binary',\n",
    "    target_size=(224, 224),\n",
    "    color_mode=\"grayscale\",\n",
    "    batch_size=128,\n",
    ")\n",
    "\n",
    "val_generator = val_data_generator.flow_from_directory(\n",
    "    directory=val_dataset_path,\n",
    "    class_mode='binary',\n",
    "    target_size=(224, 224),\n",
    "    color_mode=\"grayscale\",\n",
    ")\n",
    "\n",
    "test_generator = test_data_generator.flow_from_directory(\n",
    "    directory=test_dataset_path,\n",
    "    class_mode='binary',\n",
    "    target_size=(224, 224),\n",
    "    color_mode=\"grayscale\",\n",
    ")"
   ]
  },
  {
   "cell_type": "markdown",
   "metadata": {},
   "source": [
    "## Model"
   ]
  },
  {
   "cell_type": "code",
   "execution_count": 7,
   "metadata": {},
   "outputs": [
    {
     "name": "stdout",
     "output_type": "stream",
     "text": [
      "Model: \"sequential\"\n",
      "_________________________________________________________________\n",
      "Layer (type)                 Output Shape              Param #   \n",
      "=================================================================\n",
      "conv2d (Conv2D)              (None, 224, 224, 8)       208       \n",
      "_________________________________________________________________\n",
      "max_pooling2d (MaxPooling2D) (None, 112, 112, 8)       0         \n",
      "_________________________________________________________________\n",
      "conv2d_1 (Conv2D)            (None, 110, 110, 16)      1168      \n",
      "_________________________________________________________________\n",
      "max_pooling2d_1 (MaxPooling2 (None, 55, 55, 16)        0         \n",
      "_________________________________________________________________\n",
      "flatten (Flatten)            (None, 48400)             0         \n",
      "_________________________________________________________________\n",
      "dense (Dense)                (None, 128)               6195328   \n",
      "_________________________________________________________________\n",
      "dense_1 (Dense)              (None, 1)                 129       \n",
      "=================================================================\n",
      "Total params: 6,196,833\n",
      "Trainable params: 6,196,833\n",
      "Non-trainable params: 0\n",
      "_________________________________________________________________\n"
     ]
    }
   ],
   "source": [
    "model = Sequential()\n",
    "\n",
    "model.add(Conv2D(8, kernel_size=(5, 5), input_shape=(224, 224, 1), padding=\"same\", activation='relu'))\n",
    "model.add(MaxPool2D(pool_size=(2, 2), strides=2))\n",
    "\n",
    "model.add(Conv2D(16, kernel_size=(3, 3), activation='relu'))\n",
    "model.add(MaxPool2D(pool_size=(2, 2), strides=2))\n",
    "\n",
    "# model.add(Conv2D(32, kernel_size=(3, 3), activation='relu'))\n",
    "# model.add(MaxPool2D(pool_size=(2, 2), strides=2))\n",
    "\n",
    "# FC\n",
    "model.add(Flatten())\n",
    "model.add(Dense(128, activation=\"relu\"))\n",
    "model.add(Dense(1, activation='sigmoid'))\n",
    "\n",
    "model.compile(optimizer = 'adam' , loss=\"binary_crossentropy\", metrics=[\"accuracy\"])\n",
    "model.summary()"
   ]
  },
  {
   "cell_type": "code",
   "execution_count": 8,
   "metadata": {},
   "outputs": [
    {
     "name": "stdout",
     "output_type": "stream",
     "text": [
      "WARNING:tensorflow:From <ipython-input-8-4125f8ffe049>:1: Model.fit_generator (from tensorflow.python.keras.engine.training) is deprecated and will be removed in a future version.\n",
      "Instructions for updating:\n",
      "Please use Model.fit, which supports generators.\n",
      "Epoch 1/8\n",
      "40/40 [==============================] - 28s 692ms/step - loss: 0.9690 - accuracy: 0.7043 - val_loss: 0.5924 - val_accuracy: 0.6314\n",
      "Epoch 2/8\n",
      "40/40 [==============================] - 28s 693ms/step - loss: 0.2177 - accuracy: 0.9133 - val_loss: 0.9447 - val_accuracy: 0.7019\n",
      "Epoch 3/8\n",
      "40/40 [==============================] - 28s 689ms/step - loss: 0.0924 - accuracy: 0.9665 - val_loss: 0.7519 - val_accuracy: 0.7853\n",
      "Epoch 4/8\n",
      "40/40 [==============================] - 28s 694ms/step - loss: 0.0693 - accuracy: 0.9736 - val_loss: 0.8050 - val_accuracy: 0.7788\n",
      "Epoch 5/8\n",
      "40/40 [==============================] - 27s 684ms/step - loss: 0.0541 - accuracy: 0.9813 - val_loss: 1.1408 - val_accuracy: 0.7292\n",
      "Epoch 6/8\n",
      "40/40 [==============================] - 28s 708ms/step - loss: 0.0502 - accuracy: 0.9817 - val_loss: 0.8275 - val_accuracy: 0.7853\n",
      "Epoch 7/8\n",
      "40/40 [==============================] - 27s 687ms/step - loss: 0.0509 - accuracy: 0.9833 - val_loss: 0.9017 - val_accuracy: 0.7644\n",
      "Epoch 8/8\n",
      "40/40 [==============================] - 27s 682ms/step - loss: 0.0359 - accuracy: 0.9884 - val_loss: 1.1743 - val_accuracy: 0.7532\n"
     ]
    }
   ],
   "source": [
    "history = model.fit_generator(train_generator, epochs=8, validation_data=test_generator)"
   ]
  },
  {
   "cell_type": "code",
   "execution_count": null,
   "metadata": {},
   "outputs": [
    {
     "name": "stdout",
     "output_type": "stream",
     "text": [
      "WARNING:tensorflow:From <ipython-input-9-faa0e9406f88>:1: Model.evaluate_generator (from tensorflow.python.keras.engine.training) is deprecated and will be removed in a future version.\n",
      "Instructions for updating:\n",
      "Please use Model.evaluate, which supports generators.\n"
     ]
    }
   ],
   "source": [
    "model.evaluate_generator(test_generator)"
   ]
  },
  {
   "cell_type": "code",
   "execution_count": null,
   "metadata": {},
   "outputs": [],
   "source": [
    "epoch_x = np.arange(1, len(history.history['accuracy'])+1)\n",
    "\n",
    "plt.figure(figsize=(8, 4), dpi=100)\n",
    "sns.lineplot(epoch_x, history.history['accuracy'], label='train')\n",
    "sns.lineplot(epoch_x, history.history['val_accuracy'], label='validation')\n",
    "plt.title('accuracy')\n",
    "plt.xticks(epoch_x)\n",
    "plt.show()\n",
    "\n",
    "plt.figure(figsize=(8, 4), dpi=100)\n",
    "sns.lineplot(epoch_x, history.history['loss'], label='train')\n",
    "sns.lineplot(epoch_x, history.history['val_loss'], label='validation')\n",
    "plt.title('loss')\n",
    "plt.xticks(epoch_x)\n",
    "plt.show()"
   ]
  },
  {
   "cell_type": "code",
   "execution_count": null,
   "metadata": {},
   "outputs": [],
   "source": []
  }
 ],
 "metadata": {
  "kernelspec": {
   "display_name": "Python 3",
   "language": "python",
   "name": "python3"
  },
  "language_info": {
   "codemirror_mode": {
    "name": "ipython",
    "version": 3
   },
   "file_extension": ".py",
   "mimetype": "text/x-python",
   "name": "python",
   "nbconvert_exporter": "python",
   "pygments_lexer": "ipython3",
   "version": "3.8.3"
  }
 },
 "nbformat": 4,
 "nbformat_minor": 4
}
